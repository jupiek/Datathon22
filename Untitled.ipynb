{
 "cells": [
  {
   "cell_type": "code",
   "execution_count": 1,
   "metadata": {},
   "outputs": [],
   "source": [
    "import pandas as pd\n",
    "import numpy as np"
   ]
  },
  {
   "cell_type": "code",
   "execution_count": 3,
   "metadata": {},
   "outputs": [],
   "source": [
    "dfOcc = pd.read_csv('industry_occupation.csv', sep=',',\n",
    "                    encoding='latin-1')\n",
    "dfWater = pd.read_csv('water_usage.csv', sep=',',\n",
    "                    encoding='latin-1')\n",
    "dfChem = pd.read_csv('chemicals.csv', sep=',', low_memory=False, \n",
    "                    encoding='latin-1')"
   ]
  },
  {
   "cell_type": "code",
   "execution_count": 19,
   "metadata": {},
   "outputs": [],
   "source": [
    "dfDroughts = pd.read_csv('droughts.csv', sep=',', low_memory=False, \n",
    "                    encoding='latin-1')"
   ]
  },
  {
   "cell_type": "code",
   "execution_count": 5,
   "metadata": {},
   "outputs": [],
   "source": [
    "dfMerged = pd.read_csv('water_and_chem.csv', sep=',', low_memory=False, \n",
    "                   encoding='latin-1')"
   ]
  },
  {
   "cell_type": "code",
   "execution_count": 31,
   "metadata": {},
   "outputs": [],
   "source": [
    "a = [100.0]\n",
    "\n",
    "\n",
    "#         date\n",
    "#0  2015-01-01\n",
    "#1  2015-02-01\n",
    "#2  2015-03-01\n",
    "#3  2015-04-01\n",
    "#4  2015-05-01\n",
    "#5  2015-06-01\n",
    "\n",
    "dfDroughts = dfDroughts[~dfDroughts['none'].isin(a)]\n"
   ]
  },
  {
   "cell_type": "code",
   "execution_count": 33,
   "metadata": {},
   "outputs": [],
   "source": [
    "dfDroughts.head()\n",
    "dfDroughts.to_csv('droughts_cleaned.csv', sep=',')"
   ]
  },
  {
   "cell_type": "code",
   "execution_count": 28,
   "metadata": {},
   "outputs": [
    {
     "data": {
      "text/plain": [
       "count            1345542\n",
       "mean     6 days 00:00:00\n",
       "std      0 days 00:00:00\n",
       "min      6 days 00:00:00\n",
       "25%      6 days 00:00:00\n",
       "50%      6 days 00:00:00\n",
       "75%      6 days 00:00:00\n",
       "max      6 days 00:00:00\n",
       "Name: diff, dtype: object"
      ]
     },
     "execution_count": 28,
     "metadata": {},
     "output_type": "execute_result"
    }
   ],
   "source": [
    "dfDroughts['valid_start'] = pd.to_datetime(dfDroughts['valid_start'])\n",
    "dfDroughts['valid_end'] = pd.to_datetime(dfDroughts['valid_end'])\n",
    "dfDroughts['diff'] = dfDroughts['valid_end'] - dfDroughts['valid_start']\n",
    "dfDroughts.head()\n",
    "s = dfDroughts['diff'].describe()\n",
    "s"
   ]
  },
  {
   "cell_type": "code",
   "execution_count": 17,
   "metadata": {},
   "outputs": [],
   "source": [
    "dfMerged2 = dfMerged.value"
   ]
  },
  {
   "cell_type": "code",
   "execution_count": 16,
   "metadata": {
    "scrolled": true
   },
   "outputs": [
    {
     "data": {
      "text/html": [
       "<div>\n",
       "<style scoped>\n",
       "    .dataframe tbody tr th:only-of-type {\n",
       "        vertical-align: middle;\n",
       "    }\n",
       "\n",
       "    .dataframe tbody tr th {\n",
       "        vertical-align: top;\n",
       "    }\n",
       "\n",
       "    .dataframe thead th {\n",
       "        text-align: right;\n",
       "    }\n",
       "</style>\n",
       "<table border=\"1\" class=\"dataframe\">\n",
       "  <thead>\n",
       "    <tr style=\"text-align: right;\">\n",
       "      <th></th>\n",
       "      <th>Unnamed: 0</th>\n",
       "      <th>state_x</th>\n",
       "      <th>state_fips_x</th>\n",
       "      <th>county_x</th>\n",
       "      <th>county_fips</th>\n",
       "      <th>fips</th>\n",
       "      <th>year_x</th>\n",
       "      <th>population</th>\n",
       "      <th>ps_groundwater</th>\n",
       "      <th>ps_surfacewater</th>\n",
       "      <th>...</th>\n",
       "      <th>chemical_species</th>\n",
       "      <th>contaminant_level</th>\n",
       "      <th>county_y</th>\n",
       "      <th>pws_id</th>\n",
       "      <th>pop_served</th>\n",
       "      <th>state_y</th>\n",
       "      <th>unit_measurement</th>\n",
       "      <th>value</th>\n",
       "      <th>year_y</th>\n",
       "      <th>state_fips_y</th>\n",
       "    </tr>\n",
       "  </thead>\n",
       "  <tbody>\n",
       "  </tbody>\n",
       "</table>\n",
       "<p>0 rows × 35 columns</p>\n",
       "</div>"
      ],
      "text/plain": [
       "Empty DataFrame\n",
       "Columns: [Unnamed: 0, state_x, state_fips_x, county_x, county_fips, fips, year_x, population, ps_groundwater, ps_surfacewater, ps_total, d_selfsupplied, d_totaluse, ir_sprinkler, ir_microirrig, ir_surface, ir_total, crop_ir_sprinkler, crop_ir_microirrig, crop_ir_surface, crop_ir_total, therm_power, therm_power_oncethrough, therm_power_recirc, cws_name, chemical_species, contaminant_level, county_y, pws_id, pop_served, state_y, unit_measurement, value, year_y, state_fips_y]\n",
       "Index: []\n",
       "\n",
       "[0 rows x 35 columns]"
      ]
     },
     "execution_count": 16,
     "metadata": {},
     "output_type": "execute_result"
    }
   ],
   "source": [
    "dfMerged2.drop(dfMerged2[dfMerged2.value < 50].index)"
   ]
  },
  {
   "cell_type": "code",
   "execution_count": null,
   "metadata": {},
   "outputs": [],
   "source": []
  }
 ],
 "metadata": {
  "kernelspec": {
   "display_name": "Python 3",
   "language": "python",
   "name": "python3"
  },
  "language_info": {
   "codemirror_mode": {
    "name": "ipython",
    "version": 3
   },
   "file_extension": ".py",
   "mimetype": "text/x-python",
   "name": "python",
   "nbconvert_exporter": "python",
   "pygments_lexer": "ipython3",
   "version": "3.6.4"
  }
 },
 "nbformat": 4,
 "nbformat_minor": 2
}
